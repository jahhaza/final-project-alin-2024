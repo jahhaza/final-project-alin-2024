{
 "cells": [
  {
   "cell_type": "code",
   "execution_count": null,
   "id": "f7bf99fb-8c19-4783-8b02-e5112089f320",
   "metadata": {},
   "outputs": [],
   "source": [
    "# Detail Kelompok A07 \n",
    "# KELAS : ALJABAR LINEAR 1\n",
    "# Umi Lailatul Khotimah \t\t\t\t(5025241062)  ........ kontribusi : analysis algorithm vector\n",
    "# Danish Faiq Ibad Yuadi \t\t\t\t(5025241038)  ........ kontribusi : analysis d_value part\n",
    "# Jahhaza Assiqooyah Nurul Hidayah\t\t(5025241019)  ........ kontribusi : monitoring typing code\n",
    "# Kinanti Ayu Caesandria \t\t\t\t(5025241047)  ........ kontribusi : revision typing code\n",
    "# Salwa Nadia Maharani \t\t\t\t    (5025241041)  ........ kontribusi : solve the question (formula part)\n",
    "\n"
   ]
  },
  {
   "cell_type": "code",
   "execution_count": 3,
   "id": "3d257450-bc61-46bf-a3dc-a5435061ab27",
   "metadata": {},
   "outputs": [
    {
     "name": "stdout",
     "output_type": "stream",
     "text": [
      "Langkah 1: Menghitung vektor (dari d ke f dan dari d ke g)\n",
      "Vektor df:\n",
      "[ 8 -4  6] - [-5  7 -4] = [ 13 -11  10]\n",
      "Vektor dg:\n",
      "[-6  9  4] - [-5  7 -4] = [-1  2  8]\n",
      "\n",
      "Langkah 2: Menghitung vektor normal (dengan perkalian cross)\n",
      "Vektor normal: [-108 -114   15]\n",
      "\n",
      "Langkah 3: Menentukan persamaan bidang\n",
      "PoP. n = 0\n",
      "a(x - x0) + b(y - y0) + c(z - z0) = 0\n",
      "-108(x - -6) + -114(y - 9) + 15(z - 4) = 0\n",
      "Persamaan bidang: -108x + -114y + 15z = -318\n"
     ]
    }
   ],
   "source": [
    "import numpy as np\n",
    "\n",
    "# Titik-titik\n",
    "d = np.array([-5, 7, -4])\n",
    "f = np.array([8, -4, 6])\n",
    "g = np.array([-6, 9, 4])\n",
    "\n",
    "vector_df = f - d\n",
    "vector_dg = g - d\n",
    "\n",
    "print(\"Langkah 1: Menghitung vektor (dari d ke f dan dari d ke g)\")\n",
    "print(\"Vektor df:\")\n",
    "print(f\"{f} - {d} = {vector_df}\")\n",
    "print(\"Vektor dg:\")\n",
    "print(f\"{g} - {d} = {vector_dg}\")\n",
    "\n",
    "normal_vector = np.cross(vector_df, vector_dg)\n",
    "\n",
    "print(\"\\nLangkah 2: Menghitung vektor normal (dengan perkalian cross)\")\n",
    "print(f\"Vektor normal: {normal_vector}\")\n",
    "\n",
    "k, l, m = g\n",
    "a, b, c = normal_vector\n",
    "x0, y0, z0 = d\n",
    "\n",
    "d_value = a * x0 + b * y0 + c * z0\n",
    "\n",
    "print(\"\\nLangkah 3: Menentukan persamaan bidang\")\n",
    "print(\"PoP. n = 0\")\n",
    "print(\"a(x - x0) + b(y - y0) + c(z - z0) = 0\")\n",
    "print(f\"{a}(x - {k}) + {b}(y - {l}) + {c}(z - {m}) = 0\")\n",
    "print(f\"Persamaan bidang: {a}x + {b}y + {c}z = {d_value}\")"
   ]
  }
 ],
 "metadata": {
  "kernelspec": {
   "display_name": "Python 3 (ipykernel)",
   "language": "python",
   "name": "python3"
  },
  "language_info": {
   "codemirror_mode": {
    "name": "ipython",
    "version": 3
   },
   "file_extension": ".py",
   "mimetype": "text/x-python",
   "name": "python",
   "nbconvert_exporter": "python",
   "pygments_lexer": "ipython3",
   "version": "3.13.0"
  }
 },
 "nbformat": 4,
 "nbformat_minor": 5
}
